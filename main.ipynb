{
 "cells": [
  {
   "cell_type": "markdown",
   "metadata": {},
   "source": [
    "#### 1. Modules importing and data cleaning"
   ]
  },
  {
   "cell_type": "code",
   "execution_count": 1,
   "metadata": {},
   "outputs": [
    {
     "name": "stderr",
     "output_type": "stream",
     "text": [
      "C:\\Users\\Jacob\\AppData\\Local\\Temp\\ipykernel_24772\\2988080732.py:1: DeprecationWarning: \n",
      "Pyarrow will become a required dependency of pandas in the next major release of pandas (pandas 3.0),\n",
      "(to allow more performant data types, such as the Arrow string type, and better interoperability with other libraries)\n",
      "but was not found to be installed on your system.\n",
      "If this would cause problems for you,\n",
      "please provide us feedback at https://github.com/pandas-dev/pandas/issues/54466\n",
      "        \n",
      "  import pandas as pd\n"
     ]
    }
   ],
   "source": [
    "import pandas as pd\n",
    "import matplotlib.pyplot as plt\n",
    "\n",
    "df = pd.read_csv('countries.csv', sep=';')\n",
    "df = df.drop(index=0) # Data types\n",
    "\n",
    "# Drop null oro NaN values\n",
    "# df.dropna(axis=0, how='any')"
   ]
  },
  {
   "cell_type": "code",
   "execution_count": 8,
   "metadata": {},
   "outputs": [
    {
     "data": {
      "text/html": [
       "<div>\n",
       "<style scoped>\n",
       "    .dataframe tbody tr th:only-of-type {\n",
       "        vertical-align: middle;\n",
       "    }\n",
       "\n",
       "    .dataframe tbody tr th {\n",
       "        vertical-align: top;\n",
       "    }\n",
       "\n",
       "    .dataframe thead th {\n",
       "        text-align: right;\n",
       "    }\n",
       "</style>\n",
       "<table border=\"1\" class=\"dataframe\">\n",
       "  <thead>\n",
       "    <tr style=\"text-align: right;\">\n",
       "      <th></th>\n",
       "      <th>Country</th>\n",
       "      <th>GDP</th>\n",
       "    </tr>\n",
       "  </thead>\n",
       "  <tbody>\n",
       "    <tr>\n",
       "      <th>178</th>\n",
       "      <td>Niger</td>\n",
       "      <td>9716000000</td>\n",
       "    </tr>\n",
       "    <tr>\n",
       "      <th>262</th>\n",
       "      <td>Zambia</td>\n",
       "      <td>9409000000</td>\n",
       "    </tr>\n",
       "    <tr>\n",
       "      <th>208</th>\n",
       "      <td>San Marino</td>\n",
       "      <td>940000000</td>\n",
       "    </tr>\n",
       "    <tr>\n",
       "      <th>222</th>\n",
       "      <td>Spain</td>\n",
       "      <td>937600000000</td>\n",
       "    </tr>\n",
       "    <tr>\n",
       "      <th>113</th>\n",
       "      <td>Iceland</td>\n",
       "      <td>9373000000</td>\n",
       "    </tr>\n",
       "    <tr>\n",
       "      <th>134</th>\n",
       "      <td>Korea South</td>\n",
       "      <td>925100000000</td>\n",
       "    </tr>\n",
       "    <tr>\n",
       "      <th>176</th>\n",
       "      <td>New Zealand</td>\n",
       "      <td>92510000000</td>\n",
       "    </tr>\n",
       "    <tr>\n",
       "      <th>146</th>\n",
       "      <td>Macau</td>\n",
       "      <td>9100000000</td>\n",
       "    </tr>\n",
       "    <tr>\n",
       "      <th>182</th>\n",
       "      <td>Northern Mariana Islands</td>\n",
       "      <td>900000000</td>\n",
       "    </tr>\n",
       "    <tr>\n",
       "      <th>117</th>\n",
       "      <td>Iraq</td>\n",
       "      <td>89800000000</td>\n",
       "    </tr>\n",
       "  </tbody>\n",
       "</table>\n",
       "</div>"
      ],
      "text/plain": [
       "                      Country           GDP\n",
       "178                     Niger    9716000000\n",
       "262                    Zambia    9409000000\n",
       "208                San Marino     940000000\n",
       "222                     Spain  937600000000\n",
       "113                   Iceland    9373000000\n",
       "134               Korea South  925100000000\n",
       "176               New Zealand   92510000000\n",
       "146                     Macau    9100000000\n",
       "182  Northern Mariana Islands     900000000\n",
       "117                      Iraq   89800000000"
      ]
     },
     "execution_count": 8,
     "metadata": {},
     "output_type": "execute_result"
    }
   ],
   "source": [
    "# df['GDP - per capita'].hist(bins=20)\n",
    "# plt.title('Histogram of GDP per capita')\n",
    "# plt.xlabel('GDP per capita')\n",
    "# plt.ylabel('Frequency')\n",
    "# plt.show()\n",
    "\n",
    "# Histogram of GDP (ordered descending)\n",
    "gdp_his = df.sort_values(by='GDP', ascending=False)\n",
    "gdp_his.dropna(axis=0, how='any')\n",
    "#gdp_his = gdp_his.loc[:, ['Country', 'GDP', 'GDP - per capita', 'GDP - real growth rate(%)']]\n",
    "gdp_his = gdp_his.loc[:, ['Country', 'GDP']]\n",
    "gdp_his = gdp_his.head(10)\n",
    "#gdp_his = gdp_his.pivot(columns='Country', values=['GDP', 'GDP - per capita', 'GDP - real growth rate(%)'])\n",
    "gdp_his = gdp_his.astype(str)\n",
    "\n",
    "gdp_his\n",
    "\n",
    "# fig, axes = plt.subplots(nrows=1, ncols=3, figsize=(15, 5))\n",
    "# fig.tight_layout()\n",
    "\n",
    "# axes[0].hist(gdp_his['GDP'],\n",
    "#              bins=10,\n",
    "#              color='blue',\n",
    "#              alpha=0.5)\n",
    "\n",
    "# plt.hist(gdp_his, bins=10, color=['blue', 'red'])\n",
    "# plt.xlabel('Countries')\n",
    "# plt.ylabel('GDP')\n",
    "\n",
    "# plt.show()"
   ]
  }
 ],
 "metadata": {
  "kernelspec": {
   "display_name": "Python 3",
   "language": "python",
   "name": "python3"
  },
  "language_info": {
   "codemirror_mode": {
    "name": "ipython",
    "version": 3
   },
   "file_extension": ".py",
   "mimetype": "text/x-python",
   "name": "python",
   "nbconvert_exporter": "python",
   "pygments_lexer": "ipython3",
   "version": "3.11.0"
  }
 },
 "nbformat": 4,
 "nbformat_minor": 2
}
